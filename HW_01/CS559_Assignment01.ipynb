{
 "cells": [
  {
   "cell_type": "markdown",
   "metadata": {},
   "source": [
    "## CS559: Homework #1-1"
   ]
  },
  {
   "cell_type": "markdown",
   "metadata": {},
   "source": [
    "This is a part of Assignment #1 and this assignment is due on **9/16/2020 by 11:59 PM**. You are going to submit the assignment both in format of *ipynb* and *html*. The assignment should be own work and must not be shared between classmates. Try to avoid using built-in functions. \n",
    "\n",
    "This assignment is about linear algebra and is more focusing on implementing functions. "
   ]
  },
  {
   "cell_type": "code",
   "execution_count": 78,
   "metadata": {},
   "outputs": [],
   "source": [
    "#Avaneesh Kolluri\n",
    "#I pledge my honor that I have abided by the Stevens Honor System."
   ]
  },
  {
   "cell_type": "code",
   "execution_count": 47,
   "metadata": {},
   "outputs": [],
   "source": [
    "import math #ASK IF ITS OK TO IMPORT LIBRARIES LIKE THIS\n",
    "import numpy as np"
   ]
  },
  {
   "cell_type": "markdown",
   "metadata": {},
   "source": [
    "### Problem 1\n",
    "- Write a function `dot_product` to calculate the dot product of two 1 by n arrays. \n",
    "```\n",
    "a = array([1, 2, 3, 4])\n",
    "b = array([2, 3, 4, 5])\n",
    "dot_product(a,b) = 40\n",
    "```"
   ]
  },
  {
   "cell_type": "code",
   "execution_count": 41,
   "metadata": {},
   "outputs": [],
   "source": [
    "### Code Starts Here\n",
    "def dot_product(a,b):\n",
    "    sum = 0\n",
    "    if(len(a) != len(b)):\n",
    "        return #some error that its not going to work\n",
    "    for i in range(len(a)):\n",
    "        sum += a[i]*b[i]\n",
    "    return sum"
   ]
  },
  {
   "cell_type": "markdown",
   "metadata": {},
   "source": [
    "- Test your code after generating two random 1 by 10 arrays. "
   ]
  },
  {
   "cell_type": "code",
   "execution_count": 44,
   "metadata": {},
   "outputs": [
    {
     "name": "stdout",
     "output_type": "stream",
     "text": [
      "The dot product of [ 8  5 10  9 14  3  7 11  1  6] and [ 5  4  8  7 12 12  5  6  1 13] is: 587\n"
     ]
    },
    {
     "data": {
      "text/plain": [
       "True"
      ]
     },
     "execution_count": 44,
     "metadata": {},
     "output_type": "execute_result"
    }
   ],
   "source": [
    "### Test Starts Here\n",
    "a = np.random.randint(1,15,10)\n",
    "b = np.random.randint(1,15,10)\n",
    "print(\"The dot product of \" + str(a) + \" and \" + str(b) + \" is: \" + str(dot_product(a,b)))\n",
    "np.dot(a,b) == dot_product(a,b)"
   ]
  },
  {
   "cell_type": "markdown",
   "metadata": {},
   "source": [
    "- Consider three vectors ${\\bf x}_1=(1,3), {\\bf x}_2=(-1,5)$, and ${\\bf x}_3=(0,7)$. \n",
    "\n",
    "    - Find the distance of each point from the origin.\n",
    "\n",
    "    - Find the center of three points. \n",
    "\n",
    "    - Rotate the coordinates by 35 degress in counter clockwise. \n",
    "\n",
    "    - Magnify the area by 4 times. "
   ]
  },
  {
   "cell_type": "code",
   "execution_count": 48,
   "metadata": {},
   "outputs": [],
   "source": [
    "### Code Starts Here\n",
    "def distance(vector, from_point):\n",
    "    x = vector[0]\n",
    "    y = vector[1]\n",
    "    x1 = from_point[0]\n",
    "    y1 = from_point[1]\n",
    "    return sqrt((x-x1)**2 + (y-y1)**2)\n",
    "    \n",
    "def midpoint(a,b):\n",
    "    x = (a[0]+b[0])/2\n",
    "    y = (a[1]+b[1])/2\n",
    "    return (x,y)\n",
    "    \n",
    "def center(x,y,z):\n",
    "    a = (x[0]+y[0]+z[0])/3\n",
    "    b = (x[1]+y[1]+z[1])/3\n",
    "    return (a,b)\n",
    "\n",
    "def rotate(vector):\n",
    "    x = vector[0]\n",
    "    y = vector[1]\n",
    "    a = (x*math.cos(math.radians(35))) - (y * math.sin(math.radians(35)))\n",
    "    b = (y*math.cos(math.radians(35))) + (x * math.sin(math.radians(35)))\n",
    "    return (a,b)\n",
    "    \n",
    "def triangleAreaMagnify(a,b,c):\n",
    "    s1 = distance(a,b)\n",
    "    s2 = distance(a,c)\n",
    "    s3 = distance(b,c)\n",
    "    perimeter = s1+s2+s3\n",
    "    temp = perimeter/2\n",
    "    area = sqrt(temp*(temp-s1)*(temp-s3)*(temp-s2))\n",
    "    return 4*area"
   ]
  },
  {
   "cell_type": "code",
   "execution_count": 60,
   "metadata": {},
   "outputs": [],
   "source": [
    "#DISPLAY THE ANSWERS FOR ALL OF THEM!\n",
    "x1 = (1,3)\n",
    "x2 = (-1,5)\n",
    "x3 = (0,7)"
   ]
  },
  {
   "cell_type": "code",
   "execution_count": 63,
   "metadata": {},
   "outputs": [
    {
     "name": "stdout",
     "output_type": "stream",
     "text": [
      "The distance for x1 from the origin is 3.1622776601683795\n",
      "The distance for x2 from the origin is 5.0990195135927845\n",
      "The distance for x3 from the origin is 7.0\n"
     ]
    }
   ],
   "source": [
    "print(\"The distance for x1 from the origin is \" + str(distance(x1,(0,0))))\n",
    "print(\"The distance for x2 from the origin is \" + str(distance(x2,(0,0))))\n",
    "print(\"The distance for x3 from the origin is \" + str(distance(x3,(0,0))))"
   ]
  },
  {
   "cell_type": "code",
   "execution_count": 64,
   "metadata": {},
   "outputs": [
    {
     "name": "stdout",
     "output_type": "stream",
     "text": [
      "The center of 3 points are: (0.0, 5.0)\n"
     ]
    }
   ],
   "source": [
    "print(\"The center of 3 points are: \" + str(center(x1,x2,x3)))"
   ]
  },
  {
   "cell_type": "code",
   "execution_count": 68,
   "metadata": {},
   "outputs": [
    {
     "name": "stdout",
     "output_type": "stream",
     "text": [
      "The rotation of vector x1 is: (-0.9015772647641463, 3.0310325692180213)\n",
      "The rotation of vector x2 is: (-3.687034226044222, 3.5221837850939126)\n",
      "The rotation of vector x3 is: (-4.015035054457322, 5.7340643100229425)\n"
     ]
    }
   ],
   "source": [
    "print(\"The rotation of vector x1 is: \" + str(rotate(x1)))\n",
    "print(\"The rotation of vector x2 is: \" + str(rotate(x2)))\n",
    "print(\"The rotation of vector x3 is: \" + str(rotate(x3)))"
   ]
  },
  {
   "cell_type": "code",
   "execution_count": 70,
   "metadata": {},
   "outputs": [
    {
     "name": "stdout",
     "output_type": "stream",
     "text": [
      "The magnified area 4 times is: 12.000000000000007\n"
     ]
    }
   ],
   "source": [
    "print(\"The magnified area 4 times is: \" + str(triangleAreaMagnify(x1,x2,x3)))"
   ]
  },
  {
   "cell_type": "markdown",
   "metadata": {},
   "source": [
    "### Problem 2\n",
    "- Write a function `mat_product` to calculate the matrix product of two n by n arrays. For example:\n",
    "\n",
    "\n",
    "$A = \\begin{bmatrix} 1 & 3 & 0 \\\\ 2 & 0 & 2 \\\\ 1 & 1 & 4 \\end{bmatrix}$ and $A\\cdot A=\\begin{bmatrix} 7 & 3 & 6 \\\\ 4 & 8 & 8 \\\\ 7 & 8 & 18 \\end{bmatrix}$"
   ]
  },
  {
   "cell_type": "code",
   "execution_count": 71,
   "metadata": {},
   "outputs": [],
   "source": [
    "### Code Starts Here\n",
    "def mat_product(a,b):\n",
    "    final = []\n",
    "    for i in range(len(a)):\n",
    "        temp = []\n",
    "        for j in range(len(a)):\n",
    "            temp += [0]\n",
    "        final.append(temp)\n",
    "    \n",
    "    for i in range(len(a)): \n",
    "        #print(final)\n",
    "        for j in range(len(b)): \n",
    "            for k in range(len(b)):\n",
    "                #print(\"i is: \"+str(i)+'; j is: '+str(j)+\" k is: \"+ str(k))\n",
    "                final[i][j] += a[i][k] * b[k][j]\n",
    "                #print(final[i][j])\n",
    "    return final"
   ]
  },
  {
   "cell_type": "markdown",
   "metadata": {},
   "source": [
    "Test your code after generating two random 4 by 4 matrices, ${\\bf X}$ and ${\\bf Y}$.  "
   ]
  },
  {
   "cell_type": "code",
   "execution_count": 72,
   "metadata": {},
   "outputs": [
    {
     "name": "stdout",
     "output_type": "stream",
     "text": [
      "The product of \n",
      "[[18 19 13  1]\n",
      " [ 8 13  4 14]\n",
      " [19 15 18  6]\n",
      " [ 2 14  4 18]]\n",
      " and \n",
      "[[ 9 12  0  8]\n",
      " [15  9 13  6]\n",
      " [19  7  3 13]\n",
      " [ 2 20 14  5]]\n",
      " is: \n",
      "[[696, 498, 300, 432], [371, 521, 377, 264], [750, 609, 333, 506], [340, 538, 446, 242]]\n"
     ]
    },
    {
     "name": "stderr",
     "output_type": "stream",
     "text": [
      "/anaconda3/lib/python3.7/site-packages/ipykernel_launcher.py:2: DeprecationWarning: This function is deprecated. Please call randint(0, 20 + 1) instead\n",
      "  \n",
      "/anaconda3/lib/python3.7/site-packages/ipykernel_launcher.py:3: DeprecationWarning: This function is deprecated. Please call randint(0, 20 + 1) instead\n",
      "  This is separate from the ipykernel package so we can avoid doing imports until\n"
     ]
    },
    {
     "data": {
      "text/plain": [
       "array([[ True,  True,  True,  True],\n",
       "       [ True,  True,  True,  True],\n",
       "       [ True,  True,  True,  True],\n",
       "       [ True,  True,  True,  True]])"
      ]
     },
     "execution_count": 72,
     "metadata": {},
     "output_type": "execute_result"
    }
   ],
   "source": [
    "### Test Starts Here\n",
    "matrix1 = np.random.random_integers(0,20,(4,4))\n",
    "matrix2 = np.random.random_integers(0,20,(4,4))\n",
    "print(\"The product of \\n\" + str(matrix1) + \"\\n and \\n\" + str(matrix2) + \"\\n is: \\n\" + str(mat_product(matrix1,matrix2)))\n",
    "np.matmul(matrix1,matrix2) == mat_product(matrix1,matrix2)"
   ]
  },
  {
   "cell_type": "markdown",
   "metadata": {},
   "source": [
    "- Transpose ${\\bf X}$ and use the `mat_product` function to find the matrice of product: $Z={\\bf X}^T\\cdot{\\bf Y}$"
   ]
  },
  {
   "cell_type": "code",
   "execution_count": 73,
   "metadata": {},
   "outputs": [],
   "source": [
    "### Code Starts Here\n",
    "def transpose(a):\n",
    "    tot = len(a)\n",
    "    arr = []\n",
    "    final = []\n",
    "    for i in range(tot):\n",
    "        arr += [0]\n",
    "    for i in range(tot):\n",
    "        final += [arr]\n",
    "        \n",
    "    for i in range(len(a)):\n",
    "        for j in range(len(a)):\n",
    "            #print(final)\n",
    "            final[i][j] = a[j][i]\n",
    "    return final\n",
    "\n",
    "def answerTranspose(x,y):\n",
    "    return mat_product(transpose(x),y)"
   ]
  },
  {
   "cell_type": "code",
   "execution_count": 74,
   "metadata": {},
   "outputs": [
    {
     "data": {
      "text/plain": [
       "[[369, 540, 452, 260],\n",
       " [369, 540, 452, 260],\n",
       " [369, 540, 452, 260],\n",
       " [369, 540, 452, 260]]"
      ]
     },
     "execution_count": 74,
     "metadata": {},
     "output_type": "execute_result"
    }
   ],
   "source": [
    "answerTranspose(matrix1,matrix2)"
   ]
  },
  {
   "cell_type": "markdown",
   "metadata": {},
   "source": []
  },
  {
   "cell_type": "markdown",
   "metadata": {},
   "source": [
    "### Problem 3\n",
    "- Write a function, `Det`, to find the determinant of n by n matrice, `EGval`, that finds the eigenvalue $\\lambda$ and a function, `EGvec`, that finds the eigenvectors ${\\bf x}$\n",
    "- For the confirmation, use ${\\bf A}=\\begin{bmatrix} 1 & 2 \\\\ 2 & 4 \\end{bmatrix}$."
   ]
  },
  {
   "cell_type": "code",
   "execution_count": 75,
   "metadata": {},
   "outputs": [
    {
     "name": "stdout",
     "output_type": "stream",
     "text": [
      "The determinant of matrix A: [[1, 2], [2, 4]] is 0.\n"
     ]
    },
    {
     "data": {
      "text/plain": [
       "True"
      ]
     },
     "execution_count": 75,
     "metadata": {},
     "output_type": "execute_result"
    }
   ],
   "source": [
    "### Det Code Starts Here ###\n",
    "A = [[1,2],[2,4]]\n",
    "det = (A[0][0]*A[1][1]) - (A[0][1]*A[1][0])\n",
    "print('The determinant of matrix A: ' + str(A) + \" is \" + str(det) + '.')\n",
    "np.linalg.det(A) == det"
   ]
  },
  {
   "cell_type": "code",
   "execution_count": 76,
   "metadata": {},
   "outputs": [
    {
     "name": "stdout",
     "output_type": "stream",
     "text": [
      "The eigenvalues are lambda = 5 and lambda = 0.\n"
     ]
    },
    {
     "data": {
      "text/plain": [
       "array([ True,  True])"
      ]
     },
     "execution_count": 76,
     "metadata": {},
     "output_type": "execute_result"
    }
   ],
   "source": [
    "### EGval Code Starts Here ###\n",
    "# (1-x)*(4-x) - 4 = 0\n",
    "# 4 - 5x + x^2 - 4 = 0\n",
    "# x^2 - 5x = 0\n",
    "# x - 5 = 0\n",
    "# Eigenvalue = 5 & 0\n",
    "print('The eigenvalues are lambda = 5 and lambda = 0.')\n",
    "np.linalg.eig(A)[0] == [0,5]"
   ]
  },
  {
   "cell_type": "code",
   "execution_count": 77,
   "metadata": {},
   "outputs": [
    {
     "name": "stdout",
     "output_type": "stream",
     "text": [
      "The eigenvectors are (1,2) when lambda = 5, and (-2,1) when lambda = 0.\n"
     ]
    },
    {
     "data": {
      "text/plain": [
       "(array([0., 5.]), array([[-0.89442719, -0.4472136 ],\n",
       "        [ 0.4472136 , -0.89442719]]))"
      ]
     },
     "execution_count": 77,
     "metadata": {},
     "output_type": "execute_result"
    }
   ],
   "source": [
    "### EGvec Code Starts Here ###\n",
    "# for x = 5\n",
    "# [[-4 , 2] , [2 , -1]] [a,b]\n",
    "# -4a + 2b = 0\n",
    "# 2a - b = 0 => (1 , 2)\n",
    "## for x = 0\n",
    "## [[1 , 2] , [2 , 4]] [a,b]\n",
    "## a + 2b = 0\n",
    "## 2a + 4b = 0 => (-2 , 1)\n",
    "print('The eigenvectors are (1,2) when lambda = 5, and (-2,1) when lambda = 0.')\n",
    "np.linalg.eig(A)"
   ]
  },
  {
   "cell_type": "code",
   "execution_count": null,
   "metadata": {},
   "outputs": [],
   "source": []
  }
 ],
 "metadata": {
  "kernelspec": {
   "display_name": "Python 3",
   "language": "python",
   "name": "python3"
  },
  "language_info": {
   "codemirror_mode": {
    "name": "ipython",
    "version": 3
   },
   "file_extension": ".py",
   "mimetype": "text/x-python",
   "name": "python",
   "nbconvert_exporter": "python",
   "pygments_lexer": "ipython3",
   "version": "3.7.3"
  }
 },
 "nbformat": 4,
 "nbformat_minor": 4
}
